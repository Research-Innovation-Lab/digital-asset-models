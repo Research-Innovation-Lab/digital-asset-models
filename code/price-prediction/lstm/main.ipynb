{
 "cells": [
  {
   "cell_type": "markdown",
   "metadata": {},
   "source": [
    "# Long Short-Term Memory (LSTM) Analysis\n",
    "\n",
    "- **Date Started:** May 9th, 2024\n",
    "- **Author:** Ephraim Sun"
   ]
  },
  {
   "cell_type": "markdown",
   "metadata": {},
   "source": [
    "## General Overview\n",
    "\n",
    "Price prediction models are essential for investors and traders seeking to forecast future cryptocurrency prices. One method to do so is Long Short-Term Memory (LSTM).\n",
    "\n",
    "LSTM is a deep learning, sequential neural network that allows information to persist (1). They are a special type of Recurrent Neural Networks, where it uses previous information to process for the current input. However, RNNs cannot remember long-term dependencies due to vanishing gradient, so LSTM solves this problem.\n",
    "\n",
    "LSTM utilizes feedback corporation, allowing it to process entire sequences of data, not just individual points. \n"
   ]
  },
  {
   "cell_type": "markdown",
   "metadata": {},
   "source": [
    "## Imports and Setup\n"
   ]
  },
  {
   "cell_type": "code",
   "execution_count": 3,
   "metadata": {},
   "outputs": [],
   "source": [
    "import yfinance as yf\n",
    "import pandas as pd"
   ]
  },
  {
   "cell_type": "markdown",
   "metadata": {},
   "source": [
    "## Data Fetching"
   ]
  },
  {
   "cell_type": "markdown",
   "metadata": {},
   "source": [
    "We decided to retrieve the top 10 best cryptocurrencies based on market cap as of 05/11/2024. We have excluded stablecoins like Tether (USDT) and USDC. Therefore, we have the following coins in order of market capitalization (excluding stablecoins): \n",
    "1) Bitcoin (BTC)\n",
    "2) Ethereum (ETH)\n",
    "3) Solana (SOL)\n",
    "4) Binance Coin (BNB)\n",
    "5) XRP (XRP)\n",
    "6) Toncoin (TON)\n",
    "7) Dogecoin (DOGE)\n",
    "8) Cardano (ADA)\n",
    "9) Shiba Inu (SHIB)\n",
    "10) Avalanche (AVAX)\n",
    "\n",
    "From the above list, we notice that we have the two main cryptocurrencies Bitcoin and Ethereum, with Bitcoin around $1.2 trillion in value (according to CoinMarketCap) and Ethereum hovering around $3.5 billion, about 3x less the value compared to Bitcoin. In addition, we have "
   ]
  },
  {
   "cell_type": "code",
   "execution_count": 4,
   "metadata": {},
   "outputs": [
    {
     "name": "stderr",
     "output_type": "stream",
     "text": [
      "[*********************100%%**********************]  1 of 1 completed\n",
      "[*********************100%%**********************]  1 of 1 completed\n",
      "[*********************100%%**********************]  1 of 1 completed\n",
      "[*********************100%%**********************]  1 of 1 completed\n",
      "[*********************100%%**********************]  1 of 1 completed\n",
      "[*********************100%%**********************]  1 of 1 completed\n",
      "[*********************100%%**********************]  1 of 1 completed\n",
      "\n",
      "1 Failed download:\n",
      "['DOT1-USD']: Exception('%ticker%: No price data found, symbol may be delisted (1d 2018-01-01 -> 2024-01-01)')\n",
      "[*********************100%%**********************]  1 of 1 completed\n",
      "[*********************100%%**********************]  1 of 1 completed\n",
      "[*********************100%%**********************]  1 of 1 completed\n",
      "/var/folders/sd/j5p08m515kd7n9549lkkz_q40000gn/T/ipykernel_74198/3583048524.py:16: FutureWarning: The behavior of array concatenation with empty entries is deprecated. In a future version, this will no longer exclude empty items when determining the result dtype. To retain the old behavior, exclude the empty entries before the concat operation.\n",
      "  crypto_df = pd.concat(all_data.values(), keys=all_data.keys(), names=['Symbol'])\n"
     ]
    }
   ],
   "source": [
    "# Define the list of top 10 cryptocurrencies\n",
    "top_10_cryptos = ['BTC-USD', 'ETH-USD', 'SOL-USD', 'BNB-USD', 'XRP-USD', 'TON-USD', 'DOGE-USD', 'ADA-USD', 'SHIB-USD', 'AVAX-USD']\n",
    "\n",
    "# Define the start and end dates\n",
    "start_date = '2018-01-01'\n",
    "end_date = '2024-01-01'\n",
    "\n",
    "# Fetch historical data for each cryptocurrency\n",
    "all_data = {}\n",
    "for crypto_symbol in top_10_cryptos:\n",
    "    # Fetch historical data using yfinance\n",
    "    crypto_data = yf.download(crypto_symbol, start=start_date, end=end_date)\n",
    "    all_data[crypto_symbol] = crypto_data\n",
    "\n",
    "# Concatenate the data for all cryptocurrencies into a single DataFrame\n",
    "crypto_df = pd.concat(all_data.values(), keys=all_data.keys(), names=['Symbol'])\n",
    "\n",
    "# Optionally, save the data to a CSV file for further use\n",
    "crypto_df.to_csv('crypto_data_top_10.csv')\n",
    "\n",
    "# Now you can perform machine learning on this DataFrame\n"
   ]
  },
  {
   "cell_type": "markdown",
   "metadata": {},
   "source": [
    "## Data Preprocessing"
   ]
  },
  {
   "cell_type": "code",
   "execution_count": null,
   "metadata": {},
   "outputs": [],
   "source": []
  },
  {
   "cell_type": "markdown",
   "metadata": {},
   "source": [
    "## Model Architecture"
   ]
  },
  {
   "cell_type": "code",
   "execution_count": null,
   "metadata": {},
   "outputs": [],
   "source": []
  },
  {
   "cell_type": "markdown",
   "metadata": {},
   "source": [
    "## Training"
   ]
  },
  {
   "cell_type": "code",
   "execution_count": null,
   "metadata": {},
   "outputs": [],
   "source": []
  },
  {
   "cell_type": "markdown",
   "metadata": {},
   "source": [
    "## Evaluation"
   ]
  },
  {
   "cell_type": "code",
   "execution_count": null,
   "metadata": {},
   "outputs": [],
   "source": []
  },
  {
   "cell_type": "markdown",
   "metadata": {},
   "source": [
    "## Results and Discussion"
   ]
  },
  {
   "cell_type": "code",
   "execution_count": null,
   "metadata": {},
   "outputs": [],
   "source": []
  },
  {
   "cell_type": "markdown",
   "metadata": {},
   "source": [
    "## Conclusion"
   ]
  },
  {
   "cell_type": "code",
   "execution_count": null,
   "metadata": {},
   "outputs": [],
   "source": []
  },
  {
   "cell_type": "markdown",
   "metadata": {},
   "source": [
    "## References"
   ]
  },
  {
   "cell_type": "code",
   "execution_count": null,
   "metadata": {},
   "outputs": [],
   "source": [
    "-1. https://www.analyticsvidhya.com/blog/2021/03/introduction-to-long-short-term-memory-lstm/\n"
   ]
  }
 ],
 "metadata": {
  "kernelspec": {
   "display_name": "Python 3",
   "language": "python",
   "name": "python3"
  },
  "language_info": {
   "codemirror_mode": {
    "name": "ipython",
    "version": 3
   },
   "file_extension": ".py",
   "mimetype": "text/x-python",
   "name": "python",
   "nbconvert_exporter": "python",
   "pygments_lexer": "ipython3",
   "version": "3.9.6"
  }
 },
 "nbformat": 4,
 "nbformat_minor": 2
}
