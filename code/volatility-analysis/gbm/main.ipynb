{
 "cells": [
  {
   "cell_type": "markdown",
   "metadata": {},
   "source": [
    "# Stochastic Model - Geometric Brownian Motion (GBM)"
   ]
  },
  {
   "cell_type": "code",
   "execution_count": null,
   "metadata": {},
   "outputs": [],
   "source": [
    "import pandas as pd\n",
    "import numpy as np\n",
    "import yfinance as yf\n",
    "import matplotlib.pyplot as plt\n",
    "from scipy.stats import shapiro, jarque_bera\n"
   ]
  },
  {
   "cell_type": "code",
   "execution_count": null,
   "metadata": {},
   "outputs": [],
   "source": [
    "# Define the assets\n",
    "assets = ['AAPL', 'MSFT', 'AMZN', 'GOOGL', 'TSLA', 'SPY', 'AGG', 'PSP', 'VNQ', 'SLV', 'GLD', 'USO', 'DJI']\n",
    "cryptos = ['BTC-USD', 'ETH-USD', 'SOL-USD', 'BNB-USD', 'XRP-USD', 'TON-USD', 'DOGE-USD', 'ADA-USD', 'SHIB-USD', 'AVAX-USD']\n",
    "\n",
    "# Define the start and end dates\n",
    "start_date = '2022-01-01'\n",
    "end_date = '2024-01-01'"
   ]
  },
  {
   "cell_type": "markdown",
   "metadata": {},
   "source": [
    "### Functions"
   ]
  },
  {
   "cell_type": "code",
   "execution_count": null,
   "metadata": {},
   "outputs": [],
   "source": [
    "# Function to retrieve historical price data\n",
    "def get_historical_prices(tickers, start, end):\n",
    "    data = yf.download(tickers, start=start, end=end)['Adj Close']\n",
    "    return data\n",
    "\n",
    "# Function to implement GBM\n",
    "def geometric_brownian_motion(S0, mu, sigma, dt, N):\n",
    "    dt_sigma = sigma * np.sqrt(dt)\n",
    "    return S0 * np.exp(np.cumsum((mu - 0.5 * sigma**2) * dt + dt_sigma * np.random.randn(T, N), axis=0))\n",
    "\n",
    "# Function to perform statistical tests\n",
    "def perform_statistical_tests(returns):\n",
    "    shapiro_stat, shapiro_p = shapiro(returns)\n",
    "    jarque_bera_stat, jarque_bera_p = jarque_bera(returns)\n",
    "    return shapiro_p, jarque_bera_p"
   ]
  },
  {
   "cell_type": "code",
   "execution_count": null,
   "metadata": {},
   "outputs": [],
   "source": [
    "# Retrieve historical prices and perform GBM simulation for each asset\n",
    "for asset in assets + cryptos:\n",
    "    # Retrieve historical prices\n",
    "    data = get_historical_prices(asset, start_date, end_date)\n",
    "    \n",
    "    # Check if data is empty\n",
    "    if data.empty:\n",
    "        print(f\"No data available for {asset} within the specified date range.\")\n",
    "        continue\n",
    "    \n",
    "    # Fill missing values and drop NaNs\n",
    "    data = data.ffill().dropna()\n",
    "    \n",
    "    # Convert Series to DataFrame if necessary\n",
    "    if isinstance(data, pd.Series):\n",
    "        data = pd.DataFrame(data, columns=[asset])\n",
    "    \n",
    "    # Check if daily returns are empty\n",
    "    daily_returns = data.pct_change().dropna()\n",
    "    if daily_returns.empty:\n",
    "        print(f\"No daily returns available for {asset}.\")\n",
    "        continue\n",
    "    \n",
    "    # Parameter estimation\n",
    "    mu = daily_returns.mean()\n",
    "    sigma = daily_returns.std()\n",
    "    \n",
    "    # GBM simulation\n",
    "    T = len(data)\n",
    "    N = 100\n",
    "    dt = 1 / 252  # trading days per year\n",
    "    S0 = np.tile(data.iloc[-1].values, (N, 1)).T  # Repeat S0 N times\n",
    "    mu_tile = np.tile(mu.values.reshape(-1, 1), (1, N))\n",
    "    sigma_tile = np.tile(sigma.values.reshape(-1, 1), (1, N))\n",
    "    gbm = geometric_brownian_motion(S0, mu_tile, sigma_tile, dt, N)\n",
    "    \n",
    "    # Statistical tests\n",
    "    shapiro_p, jarque_bera_p = perform_statistical_tests(daily_returns)\n",
    "    \n",
    "    # Print data and statistical test results\n",
    "    print(f\"Asset: {asset}\")\n",
    "    print(\"Historical Prices:\")\n",
    "    print(data)\n",
    "    print(\"\\nGBM Simulation:\")\n",
    "    print(gbm)\n",
    "    print(\"\\nStatistical Test Results:\")\n",
    "    print(f\"Shapiro-Wilk p-value: {shapiro_p}\")\n",
    "    print(f\"Jarque-Bera p-value: {jarque_bera_p}\")\n",
    "    print(\"\\n----------------------------------------------\\n\")\n",
    "\n",
    "# Plotting and visualization can be added here if needed\n"
   ]
  }
 ],
 "metadata": {
  "kernelspec": {
   "display_name": "Python 3",
   "language": "python",
   "name": "python3"
  },
  "language_info": {
   "codemirror_mode": {
    "name": "ipython",
    "version": 3
   },
   "file_extension": ".py",
   "mimetype": "text/x-python",
   "name": "python",
   "nbconvert_exporter": "python",
   "pygments_lexer": "ipython3",
   "version": "3.9.6"
  }
 },
 "nbformat": 4,
 "nbformat_minor": 2
}
